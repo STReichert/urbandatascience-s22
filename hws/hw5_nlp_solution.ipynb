{
 "cells": [
  {
   "cell_type": "markdown",
   "id": "36c49b90",
   "metadata": {
    "nbgrader": {
     "grade": false,
     "grade_id": "cell-00bc092610d961a2",
     "locked": true,
     "schema_version": 3,
     "solution": false,
     "task": false
    }
   },
   "source": [
    "## Homework 5: Natural language processing\n",
    "\n",
    "In this assignment, we'll practice reading PDF files, topic modeling, and sentiment analysis.\n",
    "\n",
    "We'll use [this dataset of emailed comments](https://minneapolis2040.com/media/1411/minneapolis-2040-emailed-responses_062218.pdf) on the Minneapolis 2040 plan. It's in your repostitory as `minneapolis-2040-emailed-responses_062218.pdf`. If you want some background, [check out the city's website](https://minneapolis2040.com/received-public-comments/)."
   ]
  },
  {
   "cell_type": "markdown",
   "id": "98018ea6",
   "metadata": {
    "nbgrader": {
     "grade": false,
     "grade_id": "cell-80de175168dfbdb6",
     "locked": true,
     "schema_version": 3,
     "solution": false,
     "task": false
    }
   },
   "source": [
    "(1) Open the PDF in Python using `pdfminer`. Put the entire text into a string called `pdftxt`."
   ]
  },
  {
   "cell_type": "code",
   "execution_count": 59,
   "id": "faf95984",
   "metadata": {
    "nbgrader": {
     "grade": false,
     "grade_id": "cell-3933a084b5a9d8c4",
     "locked": false,
     "schema_version": 3,
     "solution": true,
     "task": false
    }
   },
   "outputs": [],
   "source": [
    "# your code here\n",
    "from pdfminer.high_level import extract_text\n",
    "pdftext = ''\n",
    "\n",
    "### BEGIN SOLUTION\n",
    "fn = 'minneapolis-2040-emailed-responses_062218.pdf'\n",
    "pdftext = extract_text(fn)\n",
    "### END SOLUTION"
   ]
  },
  {
   "cell_type": "code",
   "execution_count": 60,
   "id": "fd9e7752",
   "metadata": {
    "nbgrader": {
     "grade": true,
     "grade_id": "cell-903bdced1be3b890",
     "locked": true,
     "points": 1,
     "schema_version": 3,
     "solution": false,
     "task": false
    }
   },
   "outputs": [
    {
     "name": "stdout",
     "output_type": "stream",
     "text": [
      "Text is 526975 characters long\n"
     ]
    }
   ],
   "source": [
    "# autograder tests - do not edit\n",
    "print('Text is {} characters long'.format(len(pdftext)))\n",
    "assert len(pdftext) == 526975"
   ]
  },
  {
   "cell_type": "markdown",
   "id": "7940b8b7",
   "metadata": {
    "nbgrader": {
     "grade": false,
     "grade_id": "cell-4f7352607a777ee7",
     "locked": true,
     "schema_version": 3,
     "solution": false,
     "task": false
    }
   },
   "source": [
    "(2) If you take a look at the text, it seems that the different comments are separated by the `\"Content\"` string. \n",
    "\n",
    "Split your text into a list of comments using this separator. (This method isn't perfect, but it's a good first approximation.)"
   ]
  },
  {
   "cell_type": "code",
   "execution_count": 61,
   "id": "ad3c2fba",
   "metadata": {
    "nbgrader": {
     "grade": false,
     "grade_id": "cell-fdf68aab817288e8",
     "locked": false,
     "schema_version": 3,
     "solution": true,
     "task": false
    }
   },
   "outputs": [],
   "source": [
    "comment_list = []  # your list of comments\n",
    "\n",
    "### BEGIN SOLUTION\n",
    "comment_list = pdftext.split('Content')\n",
    "### END SOLUTION"
   ]
  },
  {
   "cell_type": "code",
   "execution_count": 62,
   "id": "e1c941e5",
   "metadata": {
    "nbgrader": {
     "grade": true,
     "grade_id": "cell-50c524155e81eeb6",
     "locked": true,
     "points": 1,
     "schema_version": 3,
     "solution": false,
     "task": false
    }
   },
   "outputs": [
    {
     "name": "stdout",
     "output_type": "stream",
     "text": [
      "193\n"
     ]
    }
   ],
   "source": [
    "# autograder tests - do not edit\n",
    "\n",
    "print(len(comment_list))\n",
    "assert len(comment_list) == 193"
   ]
  },
  {
   "cell_type": "markdown",
   "id": "199d3444",
   "metadata": {
    "nbgrader": {
     "grade": false,
     "grade_id": "cell-f3563fde2bd46be0",
     "locked": true,
     "schema_version": 3,
     "solution": false,
     "task": false
    }
   },
   "source": [
    "(3) Now, let's clean up each of these comments. \n",
    "\n",
    "First, create a function that removes excess whitespace, punctuation, and stop words from a string. Also remove the following words that are in pretty much every comment: city, plan, Minneapolis, emailed, comments\n",
    "\n",
    "Your function should take a string and return a cleaned-up string in the form of a list of words.\n",
    "\n",
    "*Hint*: You'll first want to use regex to remove the excess whitespace and punctuation (and then whitespace again). Then create a list of words using `split()` and remove the stopwords. \n",
    "\n",
    "(Don't apply the function to your comment list yet — that's the next question.)"
   ]
  },
  {
   "cell_type": "code",
   "execution_count": 67,
   "id": "0a2b291b",
   "metadata": {
    "nbgrader": {
     "grade": false,
     "grade_id": "cell-be7424cd658503f9",
     "locked": false,
     "schema_version": 3,
     "solution": true,
     "task": false
    }
   },
   "outputs": [],
   "source": [
    "def clean_string(text):\n",
    "    # your code here\n",
    "    # it turns text (a string) into a cleaned list of words\n",
    "    return cleaned_list_of_words\n",
    "\n",
    "\n",
    "### BEGIN SOLUTION\n",
    "from nltk.corpus import stopwords\n",
    "from nltk.tokenize import word_tokenize\n",
    "import re\n",
    "\n",
    "swords = [re.sub(r\"[^A-z\\s]\", \"\", sword) for sword in stopwords.words('english')]\n",
    "swords += ['city', 'plan', 'minneapolis', 'emailed', 'comments']\n",
    "\n",
    "def clean_string(text):\n",
    "    # remove whitespace\n",
    "    text = re.sub(r\"\\s+\", \" \", text)\n",
    "    \n",
    "    # remove punctuation\n",
    "    text = re.sub(r\"[^A-z\\s]\", \"\", text)\n",
    "\n",
    "    # remove whitespace again\n",
    "    text = re.sub(r\"\\s+\", \" \", text)\n",
    "    \n",
    "    cleaned_list_of_words = [word for word in word_tokenize(text.lower()) if word not in swords]\n",
    "\n",
    "    \n",
    "    return cleaned_list_of_words\n",
    "\n",
    "### END SOLUTION"
   ]
  },
  {
   "cell_type": "code",
   "execution_count": 68,
   "id": "58f9bb2b",
   "metadata": {
    "nbgrader": {
     "grade": true,
     "grade_id": "cell-9441894209ca2a21",
     "locked": true,
     "points": 1,
     "schema_version": 3,
     "solution": false,
     "task": false
    }
   },
   "outputs": [
    {
     "name": "stdout",
     "output_type": "stream",
     "text": [
      "['dirty', 'string', 'like']\n"
     ]
    }
   ],
   "source": [
    "# autograder tests - do not edit\n",
    "newstr = clean_string('A    very dirty 934\\t999 string for minneapolis  plan IS like  this')\n",
    "\n",
    "print(newstr)\n",
    "assert newstr == ['dirty', 'string', 'like']"
   ]
  },
  {
   "cell_type": "markdown",
   "id": "84eb8583",
   "metadata": {
    "nbgrader": {
     "grade": false,
     "grade_id": "cell-8859a8c255451db1",
     "locked": true,
     "schema_version": 3,
     "solution": false,
     "task": false
    }
   },
   "source": [
    "(4) Now, use your function to clean up the list of comments. Return a new list of cleaned comments.\n",
    "\n",
    "*Hint*: a list comprehension is the simplest way to do this. But you could also do a regular `for` loop over your `comment_list`."
   ]
  },
  {
   "cell_type": "code",
   "execution_count": 69,
   "id": "e1fcf094",
   "metadata": {
    "nbgrader": {
     "grade": false,
     "grade_id": "cell-ec35dcae4c0ac7e0",
     "locked": false,
     "schema_version": 3,
     "solution": true,
     "task": false
    }
   },
   "outputs": [],
   "source": [
    "cleaned_comment_list = []  # your code here\n",
    "\n",
    "### BEGIN SOLUTION\n",
    "cleaned_comment_list = [clean_string(cs) for cs in comment_list]\n",
    "\n",
    "### END SOLUTION"
   ]
  },
  {
   "cell_type": "code",
   "execution_count": null,
   "id": "05dd53aa",
   "metadata": {
    "nbgrader": {
     "grade": true,
     "grade_id": "cell-1b3b64b66a3db4ae",
     "locked": true,
     "points": 1,
     "schema_version": 3,
     "solution": false,
     "task": false
    },
    "scrolled": true
   },
   "outputs": [],
   "source": [
    "# autograder tests - do not edit\n",
    "print(cleaned_comment_list[9][:10])\n",
    "\n",
    "assert cleaned_comment_list[9][:10] == ['phase', 'super', 'americas', 'problems', \n",
    "                            'recent', 'threatened', 'revolt', 'license', 'issues', 'persist']"
   ]
  },
  {
   "cell_type": "markdown",
   "id": "8b70cb16",
   "metadata": {
    "nbgrader": {
     "grade": false,
     "grade_id": "cell-563a4b8b870f90b1",
     "locked": true,
     "schema_version": 3,
     "solution": false,
     "task": false
    }
   },
   "source": [
    "(5) Estimate an LDA topic model on your cleaned comment list. You could use the same parameters for `num_topics`, `alpha` and `eta` as we did in the video lectures. The challenge problem asks you to go deeper and experiment with different values, but feel free to do so here if you are inclined.\n",
    "\n",
    "Visualize your topic model using `pyLDAvis`."
   ]
  },
  {
   "cell_type": "code",
   "execution_count": null,
   "id": "1a5c5fd7",
   "metadata": {
    "nbgrader": {
     "grade": true,
     "grade_id": "cell-1a541320d85c3992",
     "locked": false,
     "points": 2,
     "schema_version": 3,
     "solution": true,
     "task": false
    }
   },
   "outputs": [],
   "source": [
    "# your code here\n",
    "\n",
    "### BEGIN SOLUTION\n",
    "\n",
    "import gensim\n",
    "dictionary = gensim.corpora.Dictionary(cleaned_comment_list)\n",
    "corpus = [dictionary.doc2bow(wl) for wl in cleaned_comment_list]\n",
    "model = gensim.models.LdaMulticore(corpus, id2word=dictionary, num_topics=10, alpha = 0.7, eta=0.5)\n",
    "\n",
    "\n",
    "import pyLDAvis\n",
    "import pyLDAvis.gensim_models   # note that in previous versions this was called pyLDAvis.gensim\n",
    "pyLDAvis.enable_notebook()\n",
    "pyLDAvis.gensim_models.prepare(model, corpus, dictionary)\n",
    "\n",
    "### END SOLUTION"
   ]
  },
  {
   "cell_type": "markdown",
   "id": "eeea1e94",
   "metadata": {
    "nbgrader": {
     "grade": false,
     "grade_id": "cell-a9edbdcf6653f050",
     "locked": true,
     "schema_version": 3,
     "solution": false,
     "task": false
    }
   },
   "source": [
    "(6) How do you interpret your topic model results? Explain in a sentence or two, or a few bullet points. "
   ]
  },
  {
   "cell_type": "markdown",
   "id": "9749c545",
   "metadata": {
    "nbgrader": {
     "grade": true,
     "grade_id": "cell-da9d4db98f4b2f99",
     "locked": false,
     "points": 1,
     "schema_version": 3,
     "solution": true,
     "task": false
    }
   },
   "source": [
    "Your answer here."
   ]
  },
  {
   "cell_type": "markdown",
   "id": "b4344205",
   "metadata": {
    "nbgrader": {
     "grade": false,
     "grade_id": "cell-b29454a6f860b751",
     "locked": true,
     "schema_version": 3,
     "solution": false,
     "task": false
    }
   },
   "source": [
    "(7) Now, it's time for some sentiment analysis!\n",
    "\n",
    "Write a function that calculates the sentiment score (polarity) for each comment in your (cleaned) list. \n",
    "\n",
    "The function should take a list of words and return a score.\n",
    "\n",
    "*Hint*: Remember the `join()` function!"
   ]
  },
  {
   "cell_type": "code",
   "execution_count": null,
   "id": "fb730134",
   "metadata": {
    "nbgrader": {
     "grade": false,
     "grade_id": "cell-d7eb94c4d704bbeb",
     "locked": false,
     "schema_version": 3,
     "solution": true,
     "task": false
    }
   },
   "outputs": [],
   "source": [
    "def get_sentiment(list_of_words):\n",
    "    # your code here\n",
    "    return polarity\n",
    "\n",
    "### BEGIN SOLUTION\n",
    "from textblob import TextBlob\n",
    "def get_sentiment(list_of_words):\n",
    "    joined_list = ' '.join(list_of_words)\n",
    "    polarity = TextBlob(joined_list).sentiment.polarity\n",
    "    return polarity\n",
    "\n",
    "### END SOLUTION"
   ]
  },
  {
   "cell_type": "code",
   "execution_count": null,
   "id": "aea9b6db",
   "metadata": {
    "nbgrader": {
     "grade": true,
     "grade_id": "cell-0cdb129789f54d89",
     "locked": true,
     "points": 1,
     "schema_version": 3,
     "solution": false,
     "task": false
    }
   },
   "outputs": [],
   "source": [
    "# autograder tests - do not edit\n",
    "print(get_sentiment(['I', 'hate', 'the', 'idea', 'of', 'higher', 'densities']))\n",
    "assert get_sentiment(['I', 'hate', 'the', 'idea', 'of', 'higher', 'densities'])==-0.275"
   ]
  },
  {
   "cell_type": "markdown",
   "id": "9d2e106f",
   "metadata": {
    "nbgrader": {
     "grade": false,
     "grade_id": "cell-841198633476bfca",
     "locked": true,
     "schema_version": 3,
     "solution": false,
     "task": false
    }
   },
   "source": [
    "(8) Now, apply the sentiment score to every string in your list (`cleaned_comment_list`). Create a new list of polarities. \n",
    "\n",
    "*Hint*: another list comprehension might be in order."
   ]
  },
  {
   "cell_type": "code",
   "execution_count": 71,
   "id": "1d1b763d",
   "metadata": {
    "nbgrader": {
     "grade": false,
     "grade_id": "cell-c19976e020fc0d16",
     "locked": false,
     "schema_version": 3,
     "solution": true,
     "task": false
    }
   },
   "outputs": [],
   "source": [
    "sentiment_scores = []  # your list here\n",
    "\n",
    "### BEGIN SOLUTION\n",
    "sentiment_scores = [get_sentiment(cs) for cs in cleaned_comment_list]\n",
    "### END SOLUTION"
   ]
  },
  {
   "cell_type": "code",
   "execution_count": 72,
   "id": "f45d00e1",
   "metadata": {
    "nbgrader": {
     "grade": true,
     "grade_id": "cell-73ef071c85534bd3",
     "locked": true,
     "points": 1,
     "schema_version": 3,
     "solution": false,
     "task": false
    }
   },
   "outputs": [
    {
     "name": "stdout",
     "output_type": "stream",
     "text": [
      "0.11\n"
     ]
    }
   ],
   "source": [
    "# autograder tests - do not edit\n",
    "import numpy as np\n",
    "print(np.round(sentiment_scores[9], 2))\n",
    "assert np.round(sentiment_scores[9], 2)==0.11"
   ]
  },
  {
   "cell_type": "markdown",
   "id": "6c1a177c",
   "metadata": {
    "nbgrader": {
     "grade": false,
     "grade_id": "cell-8eeef82c46246f7d",
     "locked": true,
     "schema_version": 3,
     "solution": false,
     "task": false
    }
   },
   "source": [
    "(8) Finally, plot a histogram of your scores. Make sure to add axis labels where appropriate."
   ]
  },
  {
   "cell_type": "code",
   "execution_count": 73,
   "id": "cd83ec39",
   "metadata": {
    "nbgrader": {
     "grade": true,
     "grade_id": "cell-e393336873100a86",
     "locked": false,
     "points": 1,
     "schema_version": 3,
     "solution": true,
     "task": false
    }
   },
   "outputs": [
    {
     "data": {
      "text/plain": [
       "Text(0, 0.5, 'Number of comments')"
      ]
     },
     "execution_count": 73,
     "metadata": {},
     "output_type": "execute_result"
    },
    {
     "data": {
      "image/png": "[encoded data removed]",
      "text/plain": [
       "<Figure size 432x288 with 1 Axes>"
      ]
     },
     "metadata": {
      "needs_background": "light"
     },
     "output_type": "display_data"
    }
   ],
   "source": [
    "# your code here\n",
    "\n",
    "### BEGIN SOLUTION\n",
    "import seaborn as sns\n",
    "ax = sns.histplot(sentiment_scores)\n",
    "ax.set_xlabel('Sentiment score')\n",
    "ax.set_ylabel('Number of comments')\n",
    "### END SOLUTION"
   ]
  },
  {
   "cell_type": "markdown",
   "id": "045ed7be",
   "metadata": {
    "nbgrader": {
     "grade": false,
     "grade_id": "cell-88d3e0046752901b",
     "locked": true,
     "schema_version": 3,
     "solution": false,
     "task": false
    }
   },
   "source": [
    "# Challenge Problem\n",
    "Remember, you need to do at least two of these challenge problems this quarter.\n",
    "\n",
    "This challenge problem is open ended for you to take in a direction that you are most interested in. Here are some suggestions (do 2-3 of these, or something analagous of your choice).\n",
    "\n",
    "* For the topic modeling, experiment with `num_topics`, `alpha` and `eta` to get a meaningful set of topics. You might want to clean the data further as well, e.g. through lemmatizing and dropping other words (like we did for \"Minneapolis\")\n",
    "* Analyze and plot the sentiment scores for posts that mention different keywords. Do you see a difference for those that mention \"density,\" \"zoning\", \"housing,\" \"parking,\" etc.? Qualitatively, do the sentiment scores make intuitive sense (e.g. if you examine the most-positive and most-negative comments)?\n",
    "* Until now, we've only considered the emailed comments. Compare the topics or sentiment scores to public comments received through a different channel ([all comments are here](https://minneapolis2040.com/received-public-comments/)). *Hint*: you could create a mega-function that takes the filename as the argument, and returns a set of topics and/or sentiment scores.\n",
    "* Other ideas?\n",
    "\n",
    "In all cases, write some brief interpretation in a markdown cell."
   ]
  },
  {
   "cell_type": "code",
   "execution_count": null,
   "id": "40ab1a40",
   "metadata": {
    "nbgrader": {
     "grade": true,
     "grade_id": "cell-8f662277a6536325",
     "locked": false,
     "points": 0,
     "schema_version": 3,
     "solution": true,
     "task": false
    }
   },
   "outputs": [],
   "source": []
  }
 ],
 "metadata": {
  "celltoolbar": "Create Assignment",
  "kernelspec": {
   "display_name": "Python 3 (ipykernel)",
   "language": "python",
   "name": "python3"
  },
  "language_info": {
   "codemirror_mode": {
    "name": "ipython",
    "version": 3
   },
   "file_extension": ".py",
   "mimetype": "text/x-python",
   "name": "python",
   "nbconvert_exporter": "python",
   "pygments_lexer": "ipython3",
   "version": "3.8.12"
  }
 },
 "nbformat": 4,
 "nbformat_minor": 5
}
